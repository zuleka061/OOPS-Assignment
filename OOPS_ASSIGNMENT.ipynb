{
  "nbformat": 4,
  "nbformat_minor": 0,
  "metadata": {
    "colab": {
      "provenance": []
    },
    "kernelspec": {
      "name": "python3",
      "display_name": "Python 3"
    },
    "language_info": {
      "name": "python"
    }
  },
  "cells": [
    {
      "cell_type": "markdown",
      "source": [
        "OOPS ASSIGNMENT ANSWERS"
      ],
      "metadata": {
        "id": "J8fs24Xbng3C"
      }
    },
    {
      "cell_type": "markdown",
      "source": [
        "1. what is object-oriented programming (OOP)?\n",
        "\n",
        "--> Object-oriented programming is a programming paradigm that revolves around the concept of objects and classes. It includes features like inheritance, polymorphism , encapsulation and abstraction."
      ],
      "metadata": {
        "id": "AHhnlyKjno6C"
      }
    },
    {
      "cell_type": "markdown",
      "source": [
        "2. What is a class in oop?\n",
        "\n",
        "--> A class in oop is a blueprint or template that defines the properties and behaviors of an object."
      ],
      "metadata": {
        "id": "f0mnzxMSo9qs"
      }
    },
    {
      "cell_type": "markdown",
      "source": [
        "3. What is an object in oop?\n",
        "\n",
        "--> An object is an entity that has its own set of attribute(data) and methods (fuction )that describe its characteristics and behaviour."
      ],
      "metadata": {
        "id": "sVElID65p0hI"
      }
    },
    {
      "cell_type": "markdown",
      "source": [
        "4. What is difference between abstraction and encapsulation?\n",
        "--> Abstraction allows us to describe complicated system by hidding unneeded details and exposing just essential aspects.\n",
        "Encapsulation means combining data and function into a single object."
      ],
      "metadata": {
        "id": "rgYZYRBbqjRU"
      }
    },
    {
      "cell_type": "markdown",
      "source": [
        "5. What are dunder methods in Python ?\n",
        "==> Dunder methods , short form of double underscore methods , are special methods in Python classes are surrounded by double underscore (==). They are used for operators overloading and are typically not called directly but are invoked by python itself."
      ],
      "metadata": {
        "id": "8eUG5jrurWHu"
      }
    },
    {
      "cell_type": "markdown",
      "source": [
        "6. Explain the concept of inheritance in oop ?\n",
        "-->Inheritance is a mechanim in oop where a new class (subclass) inherits the attribute and methods of an existing class (superclass).The subclass can also add new attributes and methods the ones inherited from the superclass."
      ],
      "metadata": {
        "id": "heILoHqZs3ug"
      }
    },
    {
      "cell_type": "markdown",
      "source": [
        "7. What is polymorphism in oop?\n",
        "--> In python ,polymorphism means the same function name is being used for different types ."
      ],
      "metadata": {
        "id": "QwPhbX64t-D5"
      }
    },
    {
      "cell_type": "markdown",
      "source": [
        "8. How is encaplusation achieved in python ?\n",
        "--> Encapulsation in Python is achieved by using single underscore (convention for private variables )or double underscore (name mangling for private variables ) before variable names."
      ],
      "metadata": {
        "id": "ScjZ3q8iuabR"
      }
    },
    {
      "cell_type": "markdown",
      "source": [
        "9. What is constructor in python ?\n",
        "--> constructor is a particular method used in oop to generate and initialise ofan object of class. It is defined using the __init__ method."
      ],
      "metadata": {
        "id": "8AUnq3ouvJ69"
      }
    },
    {
      "cell_type": "markdown",
      "source": [
        "10. What are class and static methods in python ?\n",
        "--> Class methods are methods that are bound to the class rather than the instance of the class .They can access or modify class state.\n",
        "  Static methods are methods that belongs to a class rather than instance of the class and do not have access to the class state ."
      ],
      "metadata": {
        "id": "Wvgwb2MgwIcV"
      }
    },
    {
      "cell_type": "markdown",
      "source": [
        "11. What is method overloading in python ?\n",
        "--> Python does not support methods overloading in the classical sense However , it can be achieved using the *args and **kwargs syntax to handle variable numbers or arguments.\n"
      ],
      "metadata": {
        "id": "sWlGlPP5xJSY"
      }
    },
    {
      "cell_type": "markdown",
      "source": [
        "12. What is method overridding in oop ?\n",
        "--> Method overriding is a feature of oop where a subclass provides a different implementation of a method that is already defined in its superclass. The method in the subclass has the same name , return type , and parameter list as the methods in the superclass."
      ],
      "metadata": {
        "id": "RecEWdTIxvfI"
      }
    },
    {
      "cell_type": "markdown",
      "source": [
        "13. What is a property decorator in Python ?\n",
        "--> A property decorator in Python is a way to customize access to instance date . It allows the programer to implement getters , setters and deleters for instance attributes ."
      ],
      "metadata": {
        "id": "IO-wtfEKyxMH"
      }
    },
    {
      "cell_type": "markdown",
      "source": [
        "14. Why is polymorphism important in oop ?\n",
        "--> Polymorphism is important in oop because of its features like flexibility , modularity , easier to maintain the code."
      ],
      "metadata": {
        "id": "VTRSluGDzXFa"
      }
    },
    {
      "cell_type": "markdown",
      "source": [
        "15. What are abstract class in python?\n",
        "-->An abstract class in Python is a class that can't to be be used on its own and is meant to be inherited by other classes."
      ],
      "metadata": {
        "id": "f_tl5Ejw0e-U"
      }
    },
    {
      "cell_type": "markdown",
      "source": [
        "16. What are advantages of OOP ?\n",
        "--> The advantages of OOP include modularity , reusability , abstraction, encapsulation , inheritance and polymorphism."
      ],
      "metadata": {
        "id": "KUeDTG0n2R7r"
      }
    },
    {
      "cell_type": "markdown",
      "source": [
        "17. What is the difference between a class variable and an instance variable ?\n",
        "--> A clas variable is a variable that is shared by all instances of a class .\n",
        "  whereas an instance variable is a variable that is unique to each instance of a class."
      ],
      "metadata": {
        "id": "ZvhfZvGU29iW"
      }
    },
    {
      "cell_type": "markdown",
      "source": [
        "18. What is multiple inheritance in Python?\n",
        "--> Multiple inheritance in Python is a feature where a class can inherit attributes and methods from more than one suoerclass."
      ],
      "metadata": {
        "id": "3bixyO_p3t9z"
      }
    },
    {
      "cell_type": "markdown",
      "source": [
        "19. Explain the purpose of \"--str--\" and \"--repr--\" methods in Python ?\n",
        "--> The purpose of --str-- where str() function is used an instance of class .It return a string representation of the object .\n",
        "  ==repr-- it return an umambigious string representation of object , which can be used to recreate the object."
      ],
      "metadata": {
        "id": "7Z9gPGgK4P-0"
      }
    },
    {
      "cell_type": "markdown",
      "source": [
        "20. What is the significance of the 'super()' function in python?\n",
        "--?The super () function in Python is used to give access to methods and properties of a parent or sibling class . It returns a temporary object of the superclass that allows access to all its methods to its child class. This is particularly useful in inheritance when you want to extend the functionality of a method in the parents class."
      ],
      "metadata": {
        "id": "ouynPwEY6AM5"
      }
    },
    {
      "cell_type": "markdown",
      "source": [
        "21. What is the significance of the --del-- method in Python ?\n",
        "--> The -del- method in python is a special method that is automatically called when an object is about to be destroyed. this method is also known as destructor ."
      ],
      "metadata": {
        "id": "TmpJhmT86XQb"
      }
    },
    {
      "cell_type": "markdown",
      "source": [
        "22. What is the difference between @staticmethod and @classmethod in Python\n",
        "--> In Python , @staticmethod is used to define a method that belongs to a class rather than an instance of the class. It does not have access to the class or instance variable.\n",
        "  @classmethod is used to define a method i.e is bound to the class and not the instance of the class and not the instance of the class . It has access to the class variables and can modify the class state."
      ],
      "metadata": {
        "id": "UFl7NQFG6iy3"
      }
    },
    {
      "cell_type": "markdown",
      "source": [
        "23. How does polymorphism work in Python with inheritance ?\n",
        "--> Polymorphism in Python allows objects of different classes to be treated as objects of a common superclass. This is achieved through method overriding or method overloading.When a method is called on an object , Python first look for the method in the object's class , then in its superclass and so on . This allows objects of different classes to respond differently to the same method call.\n"
      ],
      "metadata": {
        "id": "lkT8cFTX6u_q"
      }
    },
    {
      "cell_type": "markdown",
      "source": [
        "24. What is method chaining in Python OOP?\n",
        "--> Method chaining in Python is a technique where multiple methods are called on the same object in a single statement.\n"
      ],
      "metadata": {
        "id": "WeBuG7JM68J4"
      }
    },
    {
      "cell_type": "markdown",
      "source": [
        "25. What is the purpose of the --call-- method in Python ?\n",
        "--> The -call- method in Python makes an object collable .This means that the object can be used as a function . When an object is called like a function , Python internally calls the object's -call- method .\n"
      ],
      "metadata": {
        "id": "XhGIMHlp7FOY"
      }
    },
    {
      "cell_type": "markdown",
      "source": [
        "PRACTICAL PROGRAMS:"
      ],
      "metadata": {
        "id": "exLR7KGvAsnf"
      }
    },
    {
      "cell_type": "markdown",
      "source": [
        "1.create a parent class animal with a method speak() that prints a generic message . Create a child class Dog that overrides the speak() method to print 'Bark!'."
      ],
      "metadata": {
        "id": "LcxJYLvVA3Hy"
      }
    },
    {
      "cell_type": "code",
      "source": [
        "class Animal:\n",
        "    def speak(self):\n",
        "        print(\"Generic animal sound\")\n",
        "\n",
        "class Dog(Animal):\n",
        "    def speak(self):\n",
        "        print(\"Bark!\")\n",
        "dog = Dog()\n",
        "dog.speak()"
      ],
      "metadata": {
        "colab": {
          "base_uri": "https://localhost:8080/"
        },
        "id": "it62I6Z4CgEj",
        "outputId": "a19ac2a0-2d44-4e7f-8def-dcbfa8fd8b09"
      },
      "execution_count": null,
      "outputs": [
        {
          "output_type": "stream",
          "name": "stdout",
          "text": [
            "Bark!\n"
          ]
        }
      ]
    },
    {
      "cell_type": "markdown",
      "source": [
        "2. Write a program to create an abstract class shape with a method area(). Derive Classes circle and rectangle from it and implement the area() method in both."
      ],
      "metadata": {
        "id": "FdJ6B-kHDAeK"
      }
    },
    {
      "cell_type": "code",
      "source": [
        "from abc import ABC, abstractmethod\n",
        "\n",
        "class Shape(ABC):\n",
        "    @abstractmethod\n",
        "    def area(self):\n",
        "        pass\n",
        "class Circle(Shape):\n",
        "    def __init__(self, radius):\n",
        "        self.radius = radius\n",
        "    def area(self):\n",
        "        return 3.14 * self.radius * self.radius\n",
        "class Rectangle(Shape):\n",
        "  def __init__(self, length,width):\n",
        "      self.length = length\n",
        "      self.width = width\n",
        "  def area(self):\n",
        "      return self.length * self.width\n",
        "circle = Circle(7)\n",
        "rectangle = Rectangle(3,9)\n",
        "print(circle.area())\n",
        "print(rectangle.area())"
      ],
      "metadata": {
        "colab": {
          "base_uri": "https://localhost:8080/"
        },
        "id": "ngl_L-MpD0y-",
        "outputId": "2ea87de8-24db-4fb7-e901-6b7f2daea20a"
      },
      "execution_count": null,
      "outputs": [
        {
          "output_type": "stream",
          "name": "stdout",
          "text": [
            "153.86\n",
            "27\n"
          ]
        }
      ]
    },
    {
      "cell_type": "markdown",
      "source": [
        "3. Implement a multi-level inheritance scenario where a class Vehicle has an attribute type . Derive a class Car and further derive a class ElectricCar that adds a battery attribute ."
      ],
      "metadata": {
        "id": "gugTYQ9rFWXi"
      }
    },
    {
      "cell_type": "code",
      "source": [
        "class Vehicle:\n",
        "    def __init__(self, type):\n",
        "        self.type = type\n",
        "class Car(Vehicle):\n",
        "    def __init__(self, type, model):\n",
        "        super().__init__(type)\n",
        "        self.model = model\n",
        "class ElectricCar(Car):\n",
        "    def __init__(self, type, model, battery):\n",
        "        super().__init__(type, model)\n",
        "        self.battery = battery\n",
        "electric_car = ElectricCar(\"Electric\", \"Model S\", \"Li-ion\")\n",
        "print(electric_car.type)\n",
        "print(electric_car.model)\n",
        "print(electric_car.battery)"
      ],
      "metadata": {
        "colab": {
          "base_uri": "https://localhost:8080/"
        },
        "id": "4K6sx_4VF15l",
        "outputId": "fb05e9aa-6009-4028-f442-a04a3baf99b7"
      },
      "execution_count": null,
      "outputs": [
        {
          "output_type": "stream",
          "name": "stdout",
          "text": [
            "Electric\n",
            "Model S\n",
            "Li-ion\n"
          ]
        }
      ]
    },
    {
      "cell_type": "markdown",
      "source": [
        "4. Demonstrate polymorphism by creating a base class Bird with a method fly(). create two derived classes Sparrow and Penguin that override the fly() method.\n"
      ],
      "metadata": {
        "id": "0moXQgxrGWeV"
      }
    },
    {
      "cell_type": "code",
      "source": [
        "class Bird:\n",
        "    def fly(self):\n",
        "        print(\"Birds can fly\")\n",
        "class Sparrow(Bird):\n",
        "    def fly(self):\n",
        "        print(\"Sparrows can fly\")\n",
        "class Penguin(Bird):\n",
        "    def fly(self):\n",
        "        print(\"Penguins can't fly\")\n",
        "bird = Bird()\n",
        "sparrow = Sparrow()\n",
        "penguin = Penguin()\n",
        "bird.fly()\n",
        "sparrow.fly()\n",
        "penguin.fly()"
      ],
      "metadata": {
        "colab": {
          "base_uri": "https://localhost:8080/"
        },
        "id": "Nv05iaHJGyEc",
        "outputId": "07791da8-36d0-48b0-aed1-ab5757e513c7"
      },
      "execution_count": null,
      "outputs": [
        {
          "output_type": "stream",
          "name": "stdout",
          "text": [
            "Birds can fly\n",
            "Sparrows can fly\n",
            "Penguins can't fly\n"
          ]
        }
      ]
    },
    {
      "cell_type": "markdown",
      "source": [
        "5. Write a program to demonstrate encapsulation by creating a class BankAccount with private attributes balance and methods to deposit, withdraw and check balance."
      ],
      "metadata": {
        "id": "pGqBJtP8HKZJ"
      }
    },
    {
      "cell_type": "code",
      "source": [
        "class BankAccount:\n",
        "    def __init__(self, balance):\n",
        "        self.__balance = balance\n",
        "    def deposit(self, amount):\n",
        "        self.__balance += amount\n",
        "    def withdraw(self, amount):\n",
        "        if amount <= self.__balance:\n",
        "            self.__balance -= amount\n",
        "        else:\n",
        "            print(\"Insufficient balance\")\n",
        "account=BankAccount(1000)\n",
        "account.deposit(800)\n",
        "account.withdraw(400)\n",
        "print(account._BankAccount__balance)"
      ],
      "metadata": {
        "colab": {
          "base_uri": "https://localhost:8080/"
        },
        "id": "yDuFzZ58Hmcj",
        "outputId": "762f4988-5ded-4b3b-86a2-b5b2ccd84e92"
      },
      "execution_count": null,
      "outputs": [
        {
          "output_type": "stream",
          "name": "stdout",
          "text": [
            "1400\n"
          ]
        }
      ]
    },
    {
      "cell_type": "markdown",
      "source": [
        "6. Demonstrate runtime polymorphism using a method play() in a base class instrument. Derive classes Guitar and Piano that implements their own version of play()."
      ],
      "metadata": {
        "id": "aDzwwwqvILj-"
      }
    },
    {
      "cell_type": "code",
      "source": [
        "class Instrument:\n",
        "    def play(self):\n",
        "        print(\"Generic instrument sound\")\n",
        "class Guitar(Instrument):\n",
        "    def play(self):\n",
        "        print(\"Guitar is playing\")\n",
        "class Piano(Instrument):\n",
        "    def play(self):\n",
        "        print(\"Piano is playing \")\n",
        "guitar=Guitar()\n",
        "piano=Piano()\n",
        "guitar.play()\n",
        "piano.play()"
      ],
      "metadata": {
        "colab": {
          "base_uri": "https://localhost:8080/"
        },
        "id": "Kypi_6ntIhk_",
        "outputId": "d7c21ee9-e384-4df1-ad4a-e9209f699a20"
      },
      "execution_count": null,
      "outputs": [
        {
          "output_type": "stream",
          "name": "stdout",
          "text": [
            "Guitar is playing\n",
            "Piano is playing \n"
          ]
        }
      ]
    },
    {
      "cell_type": "markdown",
      "source": [
        "7. Create a class MathOPerations with a class method add_numbers() to add two numbers ad a static method subtract-numbers() to subtract two numbers."
      ],
      "metadata": {
        "id": "HM-2Vp11JFGC"
      }
    },
    {
      "cell_type": "code",
      "source": [
        "class MathOperations:\n",
        "    @classmethod\n",
        "    def add_numbers(cls, a, b):\n",
        "        return a + b\n",
        "    @staticmethod\n",
        "    def subtract_numbers(a, b):\n",
        "        return a - b\n",
        "print(MathOperations.add_numbers(8, 3))\n",
        "print(MathOperations.subtract_numbers(9, 4))"
      ],
      "metadata": {
        "colab": {
          "base_uri": "https://localhost:8080/"
        },
        "id": "jC1z-oFSJk1l",
        "outputId": "a68782f0-57eb-4569-99ab-6747ece093e9"
      },
      "execution_count": null,
      "outputs": [
        {
          "output_type": "stream",
          "name": "stdout",
          "text": [
            "11\n",
            "5\n"
          ]
        }
      ]
    },
    {
      "cell_type": "markdown",
      "source": [
        "8. Implement a class Person with a class Person with a class method to count the total number of persons created"
      ],
      "metadata": {
        "id": "7-0bvktWJ4Sn"
      }
    },
    {
      "cell_type": "code",
      "source": [
        "class Person:\n",
        "    count = 0\n",
        "    def __init__(self, name):\n",
        "        self.name = name\n",
        "        Person.count += 1\n",
        "    @classmethod\n",
        "    def get_count(cls):\n",
        "        return cls.count\n",
        "person1 = Person(\"Alice\")\n",
        "person2 = Person(\"Bob\")\n",
        "print(Person.get_count())"
      ],
      "metadata": {
        "colab": {
          "base_uri": "https://localhost:8080/"
        },
        "id": "XvFOwn-9KWcr",
        "outputId": "1039bb84-0981-436d-c4e2-7c43b9ea6f72"
      },
      "execution_count": null,
      "outputs": [
        {
          "output_type": "stream",
          "name": "stdout",
          "text": [
            "2\n"
          ]
        }
      ]
    },
    {
      "cell_type": "markdown",
      "source": [
        "9. Write a class Fraction with attribute numerator and denominator . Override the str method to display the fraction as \"numerator/denominator\"."
      ],
      "metadata": {
        "id": "f0tEjc_QK3DP"
      }
    },
    {
      "cell_type": "code",
      "source": [
        "class Fraction:\n",
        "    def __init__(self, numerator, denominator):\n",
        "        self.numerator = numerator\n",
        "        self.denominator = denominator\n",
        "    def __str__(self):\n",
        "        return f\"{self.numerator}/{self.denominator}\"\n",
        "fraction = Fraction(7, 9)\n",
        "print(fraction)"
      ],
      "metadata": {
        "colab": {
          "base_uri": "https://localhost:8080/"
        },
        "id": "VhCpn9WDLSFB",
        "outputId": "7b2ddba0-8e0b-4041-cb94-3ea798001cd4"
      },
      "execution_count": null,
      "outputs": [
        {
          "output_type": "stream",
          "name": "stdout",
          "text": [
            "7/9\n"
          ]
        }
      ]
    },
    {
      "cell_type": "markdown",
      "source": [
        "10. Demonstrate operator overloading by creating a class vector and ovverriding and methods to add two vectors."
      ],
      "metadata": {
        "id": "nEbY5gQ-Lk7H"
      }
    },
    {
      "cell_type": "code",
      "source": [
        "class Vector:\n",
        "  def __init__(self, x, y):\n",
        "    self.x = x\n",
        "    self.y = y\n",
        "  def __add__(self, other):\n",
        "    return Vector(self.x + other.x, self.y + other.y)\n",
        "  def __str__(self):\n",
        "    return f\"({self.x}, {self.y})\"\n",
        "vector1 = Vector(5, 7)\n",
        "vector2 = Vector(6, 8)\n",
        "vector3 = vector1 + vector2\n",
        "print(vector3)"
      ],
      "metadata": {
        "colab": {
          "base_uri": "https://localhost:8080/"
        },
        "id": "WYbY8h2uL21I",
        "outputId": "566a59a9-4524-49d4-f2db-ec44470448c8"
      },
      "execution_count": null,
      "outputs": [
        {
          "output_type": "stream",
          "name": "stdout",
          "text": [
            "(11, 15)\n"
          ]
        }
      ]
    },
    {
      "cell_type": "markdown",
      "source": [
        "11. Create a class Person with attribute name and age . Add a method greet() that prints \"Hello , my name is {name} and I am {age} years old\"."
      ],
      "metadata": {
        "id": "y0f75IFYMTtY"
      }
    },
    {
      "cell_type": "code",
      "source": [
        "class Person:\n",
        "    def __init__(self, name, age):\n",
        "        self.name = name\n",
        "        self.age = age\n",
        "    def greet(self):\n",
        "        print(f\"Hello, my name is {self.name} and I am {self.age} years old.\")\n",
        "Person=Person(\"zuleka\", 22)\n",
        "Person.greet()"
      ],
      "metadata": {
        "colab": {
          "base_uri": "https://localhost:8080/"
        },
        "id": "vlSnAga5MunH",
        "outputId": "616487e4-2d20-4903-a072-2f75fa010823"
      },
      "execution_count": null,
      "outputs": [
        {
          "output_type": "stream",
          "name": "stdout",
          "text": [
            "Hello, my name is zuleka and I am 22 years old.\n"
          ]
        }
      ]
    },
    {
      "cell_type": "markdown",
      "source": [
        "12.Implement a class Student with attributes name and grades.\n",
        "Create a method average_grade() to compute the average of the grades."
      ],
      "metadata": {
        "id": "-0Dek6mvNMU1"
      }
    },
    {
      "cell_type": "code",
      "source": [
        "class Student:\n",
        "    def __init__(self, name, grades):\n",
        "        self.name = name\n",
        "        self.grades = grades\n",
        "    def average_grade(self):\n",
        "        return sum(self.grades) / len(self.grades)\n",
        "Student=Student(\"Alice\",[86,99,78])\n",
        "print(Student.average_grade())"
      ],
      "metadata": {
        "colab": {
          "base_uri": "https://localhost:8080/"
        },
        "id": "Hi0APnayNgHq",
        "outputId": "b7779744-3d43-4ae2-86e7-b9875104e763"
      },
      "execution_count": null,
      "outputs": [
        {
          "output_type": "stream",
          "name": "stdout",
          "text": [
            "87.66666666666667\n"
          ]
        }
      ]
    },
    {
      "cell_type": "markdown",
      "source": [
        "13. Create a class Rectangle with methods set-dimensions() to set the dimensions and area() to calculate the area."
      ],
      "metadata": {
        "id": "Yr_subUCONry"
      }
    },
    {
      "cell_type": "code",
      "source": [
        "class Rectangle:\n",
        "  def __init__(self):\n",
        "    self.length = 0\n",
        "    self.width = 0\n",
        "  def set_dimensions(self, length, width):\n",
        "    self.length = length\n",
        "    self.width = width\n",
        "  def area(self):\n",
        "    return self.length * self.width\n",
        "rectangle = Rectangle()\n",
        "rectangle.set_dimensions(11, 5)\n",
        "print(rectangle.area())"
      ],
      "metadata": {
        "colab": {
          "base_uri": "https://localhost:8080/"
        },
        "id": "HVqLGts0OgII",
        "outputId": "caa96eba-392b-463b-bf32-277f528562d8"
      },
      "execution_count": null,
      "outputs": [
        {
          "output_type": "stream",
          "name": "stdout",
          "text": [
            "55\n"
          ]
        }
      ]
    },
    {
      "cell_type": "markdown",
      "source": [
        "14. Create a class Employee with a method calculate_salary() that computes the salary based on hours worked and hourly rate. Create a derived class Manager that adds a bonus to the salary ."
      ],
      "metadata": {
        "id": "ghwGx24HO7JC"
      }
    },
    {
      "cell_type": "code",
      "source": [
        "class Employee:\n",
        "    def __init__(self, name, hours_worked, hourly_rate):\n",
        "        self.name = name\n",
        "        self.hours_worked = hours_worked\n",
        "        self.hourly_rate = hourly_rate\n",
        "    def calculate_salary(self):\n",
        "        return self.hours_worked * self.hourly_rate\n",
        "class Manager(Employee):\n",
        "    def __init__(self, name, hours_worked, hourly_rate, bonus):\n",
        "                super().__init__(name, hours_worked, hourly_rate)\n",
        "                self.bonus = bonus\n",
        "    def calculate_salary(self):\n",
        "      return super().calculate_salary() + self.bonus\n",
        "employee=Employee(\"Alice\", 40, 50)\n",
        "print(employee.calculate_salary())\n",
        "manager = Manager(\"Alice\", 40, 50, 1000)\n",
        "print(manager.calculate_salary())"
      ],
      "metadata": {
        "colab": {
          "base_uri": "https://localhost:8080/"
        },
        "id": "vBdpId6XPaVM",
        "outputId": "10a483ad-494c-44d5-c8f9-b2d4803310b5"
      },
      "execution_count": null,
      "outputs": [
        {
          "output_type": "stream",
          "name": "stdout",
          "text": [
            "2000\n",
            "3000\n"
          ]
        }
      ]
    },
    {
      "cell_type": "markdown",
      "source": [
        "15. Create a class Product with attributes name, priceand quantity . Implement a method total_price() that calculates the total price of the product."
      ],
      "metadata": {
        "id": "xgm2J0qKRtv9"
      }
    },
    {
      "cell_type": "code",
      "source": [
        "class Product:\n",
        "    def __init__(self, name, price, quantity):\n",
        "        self.name = name\n",
        "        self.price = price\n",
        "        self.quantity = quantity\n",
        "    def total_price(self):\n",
        "        return self.price * self.quantity\n",
        "product = Product(\"Apple\", 10, 5)\n",
        "print(product.total_price())"
      ],
      "metadata": {
        "colab": {
          "base_uri": "https://localhost:8080/"
        },
        "id": "DOGAXLC9SEqM",
        "outputId": "35629eed-ea19-4771-ad10-5377b152b50d"
      },
      "execution_count": null,
      "outputs": [
        {
          "output_type": "stream",
          "name": "stdout",
          "text": [
            "50\n"
          ]
        }
      ]
    },
    {
      "cell_type": "markdown",
      "source": [
        "16. Create a class Animal with an abstract method sound(). Create two derived classes Cow and Sheep that implements the sound() method."
      ],
      "metadata": {
        "id": "k_XvSEtESVXs"
      }
    },
    {
      "cell_type": "code",
      "source": [
        "from abc import ABC, abstractmethod\n",
        "class Animal(ABC):\n",
        "    @abstractmethod\n",
        "    def sound(self):\n",
        "        pass\n",
        "class Cow(Animal):\n",
        "    def sound(self):\n",
        "            print(\"Moo!\")\n",
        "class Sheep(Animal):\n",
        "    def sound(self):\n",
        "            print(\"Baa!\")\n",
        "cow = Cow()\n",
        "cow.sound()\n",
        "sheep = Sheep()\n",
        "sheep.sound()\n"
      ],
      "metadata": {
        "colab": {
          "base_uri": "https://localhost:8080/"
        },
        "id": "SmxuySA6SrlN",
        "outputId": "0d7008a7-d3ed-45d7-90e8-e61b43faaf11"
      },
      "execution_count": null,
      "outputs": [
        {
          "output_type": "stream",
          "name": "stdout",
          "text": [
            "Moo!\n",
            "Baa!\n"
          ]
        }
      ]
    },
    {
      "cell_type": "markdown",
      "source": [
        "17. Create a class Book with attributes title , author and year_published . Add a method get_book_info() that returns a formatted string with the book's details."
      ],
      "metadata": {
        "id": "eXlq-UzjTJ6D"
      }
    },
    {
      "cell_type": "code",
      "source": [
        "class Book:\n",
        "    def __init__(self, title, author, year_published):\n",
        "        self.title = title\n",
        "        self.author = author\n",
        "        self.year_published = year_published\n",
        "    def get_book_info(self):\n",
        "        return f\"Title: {self.title}\\nAuthor: {self.author}\\nYear Published: {self.year_published}\"\n",
        "book = Book(\"The Great Gatsby\", \"F. Scott Fitzgerald\", 1925)\n",
        "print(book.get_book_info())"
      ],
      "metadata": {
        "colab": {
          "base_uri": "https://localhost:8080/"
        },
        "id": "QcHIWEkQTk6J",
        "outputId": "44564899-5be6-44c7-e26c-80f768652e93"
      },
      "execution_count": null,
      "outputs": [
        {
          "output_type": "stream",
          "name": "stdout",
          "text": [
            "Title: The Great Gatsby\n",
            "Author: F. Scott Fitzgerald\n",
            "Year Published: 1925\n"
          ]
        }
      ]
    },
    {
      "cell_type": "markdown",
      "source": [
        "18. Create a class House with atrributes address and price. Create a derived class Mansion that adds an attribute number_of_rooms."
      ],
      "metadata": {
        "id": "l2xf--mpUCbg"
      }
    },
    {
      "cell_type": "code",
      "source": [
        "class House:\n",
        "    def __init__(self, address, price):\n",
        "        self.address = address\n",
        "        self.price = price\n",
        "class Mansion(House):\n",
        "  def __init__(self, address, price, number_of_rooms):\n",
        "        super().__init__(address, price)\n",
        "        self.number_of_rooms = number_of_rooms\n",
        "  def get_mansion_info(self):\n",
        "     return f\"Address: {self.address}\\nPrice: {self.price}\\nNumber of Rooms: {self.number_of_rooms}\"\n",
        "house=House(\"123 Main St\", 250000)\n",
        "print(f\"Address:{house.address}\\nPrice: {house.price}\")\n",
        "mansion = Mansion(\"123 Main St\", 250000, 8)\n",
        "print(mansion.get_mansion_info())"
      ],
      "metadata": {
        "colab": {
          "base_uri": "https://localhost:8080/"
        },
        "id": "DF4Gi39dUWID",
        "outputId": "70cc09cf-199d-47eb-9af0-98ffec7b9e21"
      },
      "execution_count": null,
      "outputs": [
        {
          "output_type": "stream",
          "name": "stdout",
          "text": [
            "Address:123 Main St\n",
            "Price: 250000\n",
            "Address: 123 Main St\n",
            "Price: 250000\n",
            "Number of Rooms: 8\n"
          ]
        }
      ]
    }
  ]
}